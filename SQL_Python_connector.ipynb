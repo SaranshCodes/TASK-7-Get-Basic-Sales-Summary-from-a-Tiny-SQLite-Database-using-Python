{
 "cells": [
  {
   "cell_type": "code",
   "execution_count": 1,
   "id": "15e05243-c48b-4319-9544-8c7ddc2bcac8",
   "metadata": {},
   "outputs": [],
   "source": [
    "import pandas as pd\n",
    "import matplotlib.pyplot as plt\n",
    "import sqlite3 as sql"
   ]
  },
  {
   "cell_type": "code",
   "execution_count": 2,
   "id": "d2044698-1a83-4392-b958-1a3421eb4b8f",
   "metadata": {},
   "outputs": [],
   "source": [
    "df=pd.read_csv(r\"C:\\Users\\saran\\Desktop\\Internship\\Task 7\\sales_data.csv\")"
   ]
  },
  {
   "cell_type": "code",
   "execution_count": 3,
   "id": "74d75a91-294d-4dae-9b73-0666011d24fc",
   "metadata": {},
   "outputs": [],
   "source": [
    "conn=sql.connect(\"sales_data.db\")"
   ]
  },
  {
   "cell_type": "code",
   "execution_count": 4,
   "id": "afb721f3-611e-4592-8654-ff666744a35b",
   "metadata": {},
   "outputs": [
    {
     "data": {
      "text/plain": [
       "8"
      ]
     },
     "execution_count": 4,
     "metadata": {},
     "output_type": "execute_result"
    }
   ],
   "source": [
    "df.to_sql(\"sales\",conn, if_exists=\"replace\",index= False)"
   ]
  },
  {
   "cell_type": "code",
   "execution_count": 5,
   "id": "324384c4-2e12-45d7-a9a7-ba27e6e01dc3",
   "metadata": {},
   "outputs": [],
   "source": [
    "query=\"\"\"select product,quantity,price from sales\"\"\"\n",
    "result_df=pd.read_sql_query(query,conn)"
   ]
  },
  {
   "cell_type": "code",
   "execution_count": 6,
   "id": "e74a7b7e-4165-486c-9afd-9bbfd9a144f6",
   "metadata": {},
   "outputs": [
    {
     "name": "stdout",
     "output_type": "stream",
     "text": [
      "  product  quantity  price\n",
      "0   Apple        10    2.5\n",
      "1  Banana        15    1.2\n",
      "2  Orange         8    3.0\n",
      "3   Apple         5    2.5\n",
      "4  Banana        12    1.2\n",
      "5  Orange        10    3.0\n",
      "6  Grapes         7    4.0\n",
      "7  Grapes         4    4.0\n"
     ]
    }
   ],
   "source": [
    "print(result_df)"
   ]
  },
  {
   "cell_type": "code",
   "execution_count": 7,
   "id": "ba570f7f-06f7-45f2-8619-55aff619adc9",
   "metadata": {},
   "outputs": [],
   "source": [
    "query1 = \"\"\"\n",
    "SELECT product,\n",
    "       SUM(quantity) AS total_qty,\n",
    "       SUM(quantity * price) AS revenue\n",
    "FROM sales\n",
    "GROUP BY product\n",
    "\"\"\"\n",
    "result1_df = pd.read_sql_query(query1, conn)\n"
   ]
  },
  {
   "cell_type": "code",
   "execution_count": 8,
   "id": "102caf4a-810f-4bc3-a313-d1a100e25d56",
   "metadata": {},
   "outputs": [
    {
     "name": "stdout",
     "output_type": "stream",
     "text": [
      "  product  total_qty  revenue\n",
      "0   Apple         15     37.5\n",
      "1  Banana         27     32.4\n",
      "2  Grapes         11     44.0\n",
      "3  Orange         18     54.0\n"
     ]
    }
   ],
   "source": [
    "print(result1_df)"
   ]
  },
  {
   "cell_type": "code",
   "execution_count": 9,
   "id": "50721a38-b807-4e43-955f-ae8be1b34f7a",
   "metadata": {},
   "outputs": [],
   "source": [
    "query2=\"\"\" select product, sum(quantity) as total_qty from sales group by product order by total_qty desc\"\"\"\n",
    "result2_df=pd.read_sql_query(query2,conn)"
   ]
  },
  {
   "cell_type": "code",
   "execution_count": 10,
   "id": "8f3abaa7-6160-47b6-896d-973ee977acb5",
   "metadata": {},
   "outputs": [
    {
     "name": "stdout",
     "output_type": "stream",
     "text": [
      "  product  total_qty\n",
      "0  Banana         27\n",
      "1  Orange         18\n",
      "2   Apple         15\n",
      "3  Grapes         11\n"
     ]
    }
   ],
   "source": [
    "print(result2_df)"
   ]
  },
  {
   "cell_type": "code",
   "execution_count": 11,
   "id": "dc6fef1b-56ca-4d12-b3c3-131f0fbd632a",
   "metadata": {},
   "outputs": [],
   "source": [
    "query3=\"\"\" select product, avg(price) as avg_price from sales group by product order by avg_price \"\"\"\n",
    "result3_df=pd.read_sql_query(query3,conn)"
   ]
  },
  {
   "cell_type": "code",
   "execution_count": 12,
   "id": "ea164cf6-deda-4720-9265-a995314cad9b",
   "metadata": {},
   "outputs": [
    {
     "name": "stdout",
     "output_type": "stream",
     "text": [
      "  product  avg_price\n",
      "0  Banana        1.2\n",
      "1   Apple        2.5\n",
      "2  Orange        3.0\n",
      "3  Grapes        4.0\n"
     ]
    }
   ],
   "source": [
    "print(result3_df)"
   ]
  },
  {
   "cell_type": "code",
   "execution_count": 13,
   "id": "637379b4-a4f5-41e3-8875-8b7bc78f190b",
   "metadata": {},
   "outputs": [
    {
     "data": {
      "image/png": "[encoded data removed]",
      "text/plain": [
       "<Figure size 640x480 with 1 Axes>"
      ]
     },
     "metadata": {},
     "output_type": "display_data"
    }
   ],
   "source": [
    "result1_df.plot(kind=\"bar\",x=\"product\",y=\"revenue\",legend=False)\n",
    "plt.ylabel(\"Revenue\")\n",
    "plt.xlabel(\"Revenue by Product\")\n",
    "plt.show()"
   ]
  },
  {
   "cell_type": "code",
   "execution_count": 14,
   "id": "f8fc5cbc-8b6d-4e8d-aa76-e02a61418e6b",
   "metadata": {},
   "outputs": [],
   "source": [
    "conn.close()"
   ]
  }
 ],
 "metadata": {
  "kernelspec": {
   "display_name": "Python 3 (ipykernel)",
   "language": "python",
   "name": "python3"
  },
  "language_info": {
   "codemirror_mode": {
    "name": "ipython",
    "version": 3
   },
   "file_extension": ".py",
   "mimetype": "text/x-python",
   "name": "python",
   "nbconvert_exporter": "python",
   "pygments_lexer": "ipython3",
   "version": "3.13.0"
  }
 },
 "nbformat": 4,
 "nbformat_minor": 5
}
